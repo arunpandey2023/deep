{
  "nbformat": 4,
  "nbformat_minor": 0,
  "metadata": {
    "colab": {
      "provenance": [],
      "authorship_tag": "ABX9TyOj83cPHsUkFDaA4MK1K5/1",
      "include_colab_link": true
    },
    "kernelspec": {
      "name": "python3",
      "display_name": "Python 3"
    },
    "language_info": {
      "name": "python"
    }
  },
  "cells": [
    {
      "cell_type": "markdown",
      "metadata": {
        "id": "view-in-github",
        "colab_type": "text"
      },
      "source": [
        "<a href=\"https://colab.research.google.com/github/arunpandey2023/deep/blob/main/Transformers_with_Self_Attention.ipynb\" target=\"_parent\"><img src=\"https://colab.research.google.com/assets/colab-badge.svg\" alt=\"Open In Colab\"/></a>"
      ]
    },
    {
      "cell_type": "markdown",
      "source": [
        "#BUILDING TRANSFORMER MODELS WITH SELF ATTENTION FROM SCRATCH"
      ],
      "metadata": {
        "id": "bfjQs_0tEXd5"
      }
    },
    {
      "cell_type": "markdown",
      "source": [
        "#1 Import Base Libraries\n"
      ],
      "metadata": {
        "id": "oGWcatutEa2k"
      }
    },
    {
      "cell_type": "code",
      "execution_count": null,
      "metadata": {
        "id": "quKAfe7tEKjK"
      },
      "outputs": [],
      "source": [
        "import tensorflow as tf\n",
        "from tensorflow.keras.layers import Input, Dense, Dropout, LayerNormalization\n",
        "from tensorflow.keras.models import Model\n",
        "import numpy as np"
      ]
    },
    {
      "cell_type": "markdown",
      "source": [
        "#2 Self-Attention Mechanism Layer"
      ],
      "metadata": {
        "id": "IxJ1AqSsEre6"
      }
    },
    {
      "cell_type": "code",
      "source": [
        "class SelfAttention(tf.keras.layers.Layer):\n",
        "    def __init__(self, embed_dim):\n",
        "        super(SelfAttention, self).__init__()\n",
        "        self.embed_dim = embed_dim\n",
        "\n",
        "    def build(self, input_shape):\n",
        "        self.W_q = self.add_weight(name='W_q',\n",
        "                                   shape=(input_shape[-1], self.embed_dim),\n",
        "                                   initializer='glorot_uniform',\n",
        "                                   trainable=True)\n",
        "        self.W_k = self.add_weight(name='W_k',\n",
        "                                   shape=(input_shape[-1], self.embed_dim),\n",
        "                                   initializer='glorot_uniform',\n",
        "                                   trainable=True)\n",
        "        self.W_v = self.add_weight(name='W_v',\n",
        "                                   shape=(input_shape[-1], self.embed_dim),\n",
        "                                   initializer='glorot_uniform',\n",
        "                                   trainable=True)\n",
        "\n",
        "    def call(self, inputs):\n",
        "        q = tf.matmul(inputs, self.W_q)\n",
        "        k = tf.matmul(inputs, self.W_k)\n",
        "        v = tf.matmul(inputs, self.W_v)\n",
        "\n",
        "        attn_scores = tf.matmul(q, k, transpose_b=True)\n",
        "        attn_scores = tf.nn.softmax(attn_scores / tf.math.sqrt(tf.cast(self.embed_dim, tf.float32)), axis=-1)\n",
        "        output = tf.matmul(attn_scores, v)\n",
        "        return output"
      ],
      "metadata": {
        "id": "L8XxmJSAEkLr"
      },
      "execution_count": null,
      "outputs": []
    },
    {
      "cell_type": "markdown",
      "source": [
        "#3 Transformer Model"
      ],
      "metadata": {
        "id": "HNZedncTEz2v"
      }
    },
    {
      "cell_type": "code",
      "source": [
        "def build_transformer_model(input_shape, embed_dim, num_heads, ff_dim, num_layers, vocab_size, max_length):\n",
        "    inputs = Input(shape=input_shape)\n",
        "\n",
        "    # Positional Encoding\n",
        "    position_embed = np.array([[pos / np.power(10000, 2 * (i // 2) / embed_dim) for i in range(embed_dim)]\n",
        "                               for pos in range(max_length)])\n",
        "    position_embed[:, 0::2] = np.sin(position_embed[:, 0::2])\n",
        "    position_embed[:, 1::2] = np.cos(position_embed[:, 1::2])\n",
        "    position_embed = tf.convert_to_tensor(position_embed, dtype=tf.float32)\n",
        "    pos_encoding = position_embed[:input_shape[1], :]\n",
        "    x = inputs + pos_encoding\n",
        "\n",
        "    # Transformer Encoder\n",
        "    for _ in range(num_layers):\n",
        "        attn_output = SelfAttention(embed_dim)(x)\n",
        "        attn_output = LayerNormalization(epsilon=1e-6)(attn_output + x)\n",
        "\n",
        "        ffn_output = Dense(ff_dim, activation='relu')(attn_output)\n",
        "        ffn_output = Dense(embed_dim)(ffn_output)\n",
        "        x = LayerNormalization(epsilon=1e-6)(ffn_output + attn_output)\n",
        "\n",
        "    # Output layer\n",
        "    outputs = Dense(vocab_size, activation='softmax')(x)\n",
        "\n",
        "    model = Model(inputs=inputs, outputs=outputs)\n",
        "    return model"
      ],
      "metadata": {
        "id": "tBpN67IAE3mu"
      },
      "execution_count": null,
      "outputs": []
    },
    {
      "cell_type": "markdown",
      "source": [
        "#4 Example parameters"
      ],
      "metadata": {
        "id": "U_Hxo75KE75b"
      }
    },
    {
      "cell_type": "code",
      "source": [
        "input_shape = (100, 512)  # Input shape: (sequence_length, embedding_dimension)\n",
        "embed_dim = 128\n",
        "num_heads = 8\n",
        "ff_dim = 256\n",
        "num_layers = 4\n",
        "vocab_size = 10000\n",
        "max_length = 1000"
      ],
      "metadata": {
        "id": "E2nZuwrHE_15"
      },
      "execution_count": null,
      "outputs": []
    },
    {
      "cell_type": "markdown",
      "source": [
        "#5 Build Transformer Model"
      ],
      "metadata": {
        "id": "wkGxGrFbFEFR"
      }
    },
    {
      "cell_type": "code",
      "source": [
        "transformer_model = build_transformer_model(input_shape, embed_dim, num_heads, ff_dim, num_layers, vocab_size, max_length)\n",
        "transformer_model.summary()"
      ],
      "metadata": {
        "id": "WXZOlFBqFJ7w"
      },
      "execution_count": null,
      "outputs": []
    }
  ]
}